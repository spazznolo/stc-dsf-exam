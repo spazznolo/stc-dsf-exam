{
  "nbformat": 4,
  "nbformat_minor": 0,
  "metadata": {
    "colab": {
      "provenance": [],
      "authorship_tag": "ABX9TyNhmup+ZzdYW+FcraHR2YxF",
      "include_colab_link": true
    },
    "kernelspec": {
      "name": "python3",
      "display_name": "Python 3"
    },
    "language_info": {
      "name": "python"
    }
  },
  "cells": [
    {
      "cell_type": "markdown",
      "metadata": {
        "id": "view-in-github",
        "colab_type": "text"
      },
      "source": [
        "<a href=\"https://colab.research.google.com/github/spazznolo/stc-dsf-exam/blob/main/dsf_stc_exam.ipynb\" target=\"_parent\"><img src=\"https://colab.research.google.com/assets/colab-badge.svg\" alt=\"Open In Colab\"/></a>"
      ]
    },
    {
      "cell_type": "markdown",
      "source": [
        "# **ASSIGNMENT 2: NATURAL DISASTERS DATASET**\n",
        "\n",
        "The objective of this assignment is to build a model which classifies tweets as either being about a real disaster or not. In particular, we're looking for the most simple model which \"gets the job done\", while also being interpretable. In total, three models will be attempted -  a bag of words model, another using tf-idf in combination with a traditional ML learning algorithm, and then a pre-trained word/sentence embedder in combination with a linear classifier. Though the guidelines are extensive, there is still room for further decision making based on the project and data at hand. In order to make these decisions, we first need to explore the dataset. The exploratory data analysis is outlined below, along with the loading of necessary modules."
      ],
      "metadata": {
        "id": "c-jMPQWp_Ci1"
      }
    },
    {
      "cell_type": "code",
      "execution_count": 85,
      "metadata": {
        "id": "IeItvkY_9xn-",
        "colab": {
          "base_uri": "https://localhost:8080/"
        },
        "outputId": "51650879-b6d4-40cf-b26c-001b75791d95"
      },
      "outputs": [
        {
          "output_type": "stream",
          "name": "stderr",
          "text": [
            "[nltk_data] Downloading package stopwords to /root/nltk_data...\n",
            "[nltk_data]   Package stopwords is already up-to-date!\n"
          ]
        },
        {
          "output_type": "stream",
          "name": "stdout",
          "text": [
            "Looking in indexes: https://pypi.org/simple, https://us-python.pkg.dev/colab-wheels/public/simple/\n",
            "Requirement already satisfied: sentence_transformers in /usr/local/lib/python3.8/dist-packages (2.2.2)\n",
            "Requirement already satisfied: torch>=1.6.0 in /usr/local/lib/python3.8/dist-packages (from sentence_transformers) (1.12.1+cu113)\n",
            "Requirement already satisfied: scikit-learn in /usr/local/lib/python3.8/dist-packages (from sentence_transformers) (1.0.2)\n",
            "Requirement already satisfied: scipy in /usr/local/lib/python3.8/dist-packages (from sentence_transformers) (1.7.3)\n",
            "Requirement already satisfied: transformers<5.0.0,>=4.6.0 in /usr/local/lib/python3.8/dist-packages (from sentence_transformers) (4.25.1)\n",
            "Requirement already satisfied: nltk in /usr/local/lib/python3.8/dist-packages (from sentence_transformers) (3.7)\n",
            "Requirement already satisfied: sentencepiece in /usr/local/lib/python3.8/dist-packages (from sentence_transformers) (0.1.97)\n",
            "Requirement already satisfied: huggingface-hub>=0.4.0 in /usr/local/lib/python3.8/dist-packages (from sentence_transformers) (0.11.1)\n",
            "Requirement already satisfied: tqdm in /usr/local/lib/python3.8/dist-packages (from sentence_transformers) (4.64.1)\n",
            "Requirement already satisfied: torchvision in /usr/local/lib/python3.8/dist-packages (from sentence_transformers) (0.13.1+cu113)\n",
            "Requirement already satisfied: numpy in /usr/local/lib/python3.8/dist-packages (from sentence_transformers) (1.21.6)\n",
            "Requirement already satisfied: requests in /usr/local/lib/python3.8/dist-packages (from huggingface-hub>=0.4.0->sentence_transformers) (2.23.0)\n",
            "Requirement already satisfied: typing-extensions>=3.7.4.3 in /usr/local/lib/python3.8/dist-packages (from huggingface-hub>=0.4.0->sentence_transformers) (4.1.1)\n",
            "Requirement already satisfied: packaging>=20.9 in /usr/local/lib/python3.8/dist-packages (from huggingface-hub>=0.4.0->sentence_transformers) (21.3)\n",
            "Requirement already satisfied: filelock in /usr/local/lib/python3.8/dist-packages (from huggingface-hub>=0.4.0->sentence_transformers) (3.8.0)\n",
            "Requirement already satisfied: pyyaml>=5.1 in /usr/local/lib/python3.8/dist-packages (from huggingface-hub>=0.4.0->sentence_transformers) (6.0)\n",
            "Requirement already satisfied: pyparsing!=3.0.5,>=2.0.2 in /usr/local/lib/python3.8/dist-packages (from packaging>=20.9->huggingface-hub>=0.4.0->sentence_transformers) (3.0.9)\n",
            "Requirement already satisfied: tokenizers!=0.11.3,<0.14,>=0.11.1 in /usr/local/lib/python3.8/dist-packages (from transformers<5.0.0,>=4.6.0->sentence_transformers) (0.13.2)\n",
            "Requirement already satisfied: regex!=2019.12.17 in /usr/local/lib/python3.8/dist-packages (from transformers<5.0.0,>=4.6.0->sentence_transformers) (2022.6.2)\n",
            "Requirement already satisfied: click in /usr/local/lib/python3.8/dist-packages (from nltk->sentence_transformers) (7.1.2)\n",
            "Requirement already satisfied: joblib in /usr/local/lib/python3.8/dist-packages (from nltk->sentence_transformers) (1.2.0)\n",
            "Requirement already satisfied: idna<3,>=2.5 in /usr/local/lib/python3.8/dist-packages (from requests->huggingface-hub>=0.4.0->sentence_transformers) (2.10)\n",
            "Requirement already satisfied: chardet<4,>=3.0.2 in /usr/local/lib/python3.8/dist-packages (from requests->huggingface-hub>=0.4.0->sentence_transformers) (3.0.4)\n",
            "Requirement already satisfied: urllib3!=1.25.0,!=1.25.1,<1.26,>=1.21.1 in /usr/local/lib/python3.8/dist-packages (from requests->huggingface-hub>=0.4.0->sentence_transformers) (1.24.3)\n",
            "Requirement already satisfied: certifi>=2017.4.17 in /usr/local/lib/python3.8/dist-packages (from requests->huggingface-hub>=0.4.0->sentence_transformers) (2022.9.24)\n",
            "Requirement already satisfied: threadpoolctl>=2.0.0 in /usr/local/lib/python3.8/dist-packages (from scikit-learn->sentence_transformers) (3.1.0)\n",
            "Requirement already satisfied: pillow!=8.3.*,>=5.3.0 in /usr/local/lib/python3.8/dist-packages (from torchvision->sentence_transformers) (7.1.2)\n"
          ]
        }
      ],
      "source": [
        "# Load data manipulation modules\n",
        "import pandas as pd\n",
        "import numpy as np\n",
        "\n",
        "# Load data visualization modules\n",
        "import matplotlib.pyplot as plt\n",
        "\n",
        "# Load text manipulation modules\n",
        "import re, string\n",
        "import nltk\n",
        "from nltk.corpus import stopwords\n",
        "from nltk.stem import PorterStemmer\n",
        "nltk.download('stopwords')\n",
        "from sklearn.feature_extraction.text import CountVectorizer\n",
        "from sklearn.feature_extraction.text import TfidfVectorizer\n",
        "\n",
        "# Load machine learning modules\n",
        "import sklearn.metrics as metrics\n",
        "from sklearn.model_selection import train_test_split\n",
        "from sklearn.pipeline import make_pipeline\n",
        "from sklearn.linear_model import LogisticRegression\n",
        "from sklearn.svm import LinearSVC\n",
        "from sklearn.linear_model import SGDClassifier\n",
        "from sklearn.calibration import CalibratedClassifierCV\n",
        "\n",
        "# Load pre-trained word embedding modules\n",
        "!pip install sentence_transformers\n",
        "from sentence_transformers import SentenceTransformer\n",
        "\n",
        "# Load datset\n",
        "train = pd.read_csv('train.csv')"
      ]
    },
    {
      "cell_type": "markdown",
      "source": [
        "# **Exploring the Dataset**\n",
        "\n",
        "The exploration will be sumarized in bullet points due to the time limit of the assignment.\n",
        "\n",
        "*   The test set has no labels, thus only the train set is used. \n",
        "*   The train data contains 7608 Tweets (observations).\n",
        "*   42.9% of these Tweets are from real disasters, while 57.1% are not (the dataset is well balanced).\n",
        "*   Aside from the Tweet, there is information on the user's location and the Tweet's keyword has been provided (though it is unlcear where it comes from).\n",
        "*   Because of the above point, we can use metrics like accuracy and AUC to determine model performance.\n",
        "*   There are no Tweets with missing fields, but 33.2% of Tweets are without user location and 0.8% of Tweets are without a keyword.\n",
        "*   Certain symbols seem to have been obfuscate/lost during the encoding of the Tweets.\n",
        "\n",
        "## **Contextualizing Tweets**\n",
        "Twitter is a popular social media app which comes with its own stylistic form. For example, it is common on twitter to \"mention\" another user through the form of \"@username\". It is also common to include a Tweet as part of a larger conversation through the form of \"hastags\" (#trending). Also, it is common for users to share links to videos, articles, etc. (here, the tweet would include http...).\n",
        "\n"
      ],
      "metadata": {
        "id": "0QVT3YdAAZUF"
      }
    },
    {
      "cell_type": "code",
      "source": [
        "train.isnull().mean(axis = 0)"
      ],
      "metadata": {
        "colab": {
          "base_uri": "https://localhost:8080/"
        },
        "id": "j7VZw92-Anhi",
        "outputId": "0669f8fd-8468-45a3-c368-95c1a60a6111"
      },
      "execution_count": 86,
      "outputs": [
        {
          "output_type": "execute_result",
          "data": {
            "text/plain": [
              "id          0.000000\n",
              "keyword     0.008013\n",
              "location    0.332720\n",
              "text        0.000000\n",
              "target      0.000000\n",
              "dtype: float64"
            ]
          },
          "metadata": {},
          "execution_count": 86
        }
      ]
    },
    {
      "cell_type": "code",
      "source": [
        "train['target'].mean()"
      ],
      "metadata": {
        "colab": {
          "base_uri": "https://localhost:8080/"
        },
        "id": "g5oQpZEty-o8",
        "outputId": "cce1a680-afa5-4e4c-d7f2-1bda47eb02ec"
      },
      "execution_count": 87,
      "outputs": [
        {
          "output_type": "execute_result",
          "data": {
            "text/plain": [
              "0.4296597924602653"
            ]
          },
          "metadata": {},
          "execution_count": 87
        }
      ]
    },
    {
      "cell_type": "code",
      "source": [
        "# Create the predictor set and the target vector\n",
        "X = train.drop(['target'], axis=1)\n",
        "y = train['target']\n",
        "\n",
        "# Randomly split the model set into training (75%) and validation (25%) sets\n",
        "X_train, X_val, y_train, y_val = train_test_split(X, y, test_size=0.25, random_state=33)"
      ],
      "metadata": {
        "id": "jMs-mjrgX1LI"
      },
      "execution_count": 88,
      "outputs": []
    },
    {
      "cell_type": "code",
      "source": [
        "# Assign stemmer to object\n",
        "ps = PorterStemmer()\n",
        "\n",
        "# Function which preprocesses text in general format for all models\n",
        "def preprocess_text(text):\n",
        "\n",
        "    # removes encoding quirks\n",
        "    text = re.sub(r'&[a-zA-Z]+;?', '', text)\n",
        "    # removes mentions\n",
        "    text = re.sub(r'@[a-zA-Z_]+;?', '', text)\n",
        "    # removes numbers\n",
        "    text = re.sub(r'\\w*\\d+\\w*', '', text)\n",
        "    # make all text lowercase\n",
        "    text = text.lower()\n",
        "\n",
        "    # tokenizes text\n",
        "    text = nltk.word_tokenize(text)\n",
        "    # removes stop words\n",
        "    text = [i for i in text if i not in stopwords.words('english')]\n",
        "    # removes punctuation\n",
        "    text = [i for i in text if i not in string.punctuation]\n",
        "    # stems alphanumeric values\n",
        "    text = [ps.stem(i) for i in text if i.isalnum() == True]\n",
        "    \n",
        "    return \" \".join(text)\n"
      ],
      "metadata": {
        "id": "YgV8hlt-HhGc"
      },
      "execution_count": 89,
      "outputs": []
    },
    {
      "cell_type": "markdown",
      "source": [
        "# **Task 1: Bag of words model**\n",
        "\n",
        "The first model, which is also the simplest, is built through the text processing method called Bag-of-Words, where a given Tweet's words are added up as they occur. For example: 'Michael has the bag and has the cat' would yield a value of 1 for Michael, but 2 for has."
      ],
      "metadata": {
        "id": "YppYjmIa46xh"
      }
    },
    {
      "cell_type": "code",
      "source": [
        "vectorizer = CountVectorizer(stop_words='english', ngram_range=(1, 1))\n",
        "\n",
        "X_train_vec = vectorizer.fit_transform(X_train['text'].apply(preprocess_text))\n",
        "X_train_vec = pd.DataFrame(X_train_vec.toarray(), columns=vectorizer.get_feature_names_out(), index=X_train.index)\n",
        "\n",
        "X_val_vec = vectorizer.transform(X_val['text'].apply(preprocess_text))\n",
        "X_val_vec = pd.DataFrame(X_val_vec.toarray(), columns=vectorizer.get_feature_names_out(), index=X_val.index)"
      ],
      "metadata": {
        "id": "ED25Jdj4Dg0Q"
      },
      "execution_count": 90,
      "outputs": []
    },
    {
      "cell_type": "code",
      "source": [
        "# Create an instance of LogisticRegression classifier\n",
        "lr = LogisticRegression(random_state=33)\n",
        "lr.fit(X_train_vec, y_train)\n",
        "y_pred = lr.predict(X_val_vec)\n",
        "y_pred_proba = lr.predict_proba(X_val_vec)  \n",
        "\n",
        "precision_1 = metrics.precision_score(y_val, y_pred)\n",
        "fscore_1 = metrics.f1_score(y_val, y_pred)\n",
        "accuracy_1 = metrics.accuracy_score(y_val, y_pred)"
      ],
      "metadata": {
        "id": "mcMb5OrTOvP9"
      },
      "execution_count": 104,
      "outputs": []
    },
    {
      "cell_type": "code",
      "source": [
        "y_pred_proba = y_pred_proba[:,1]\n",
        "fpr_1, tpr_1, threshold_1 = metrics.roc_curve(y_val, y_pred_proba)\n",
        "roc_auc_1 = metrics.auc(fpr_1, tpr_1)\n",
        "\n",
        "# method I: plt\n",
        "plt.title('Receiver Operating Characteristic')\n",
        "plt.plot(fpr_1, tpr_1, 'b', label = 'AUC = %0.2f' % roc_auc_1)\n",
        "plt.legend(loc = 'lower right')\n",
        "plt.plot([0, 1], [0, 1],'r--')\n",
        "plt.xlim([0, 1])\n",
        "plt.ylim([0, 1])\n",
        "plt.ylabel('True Positive Rate')\n",
        "plt.xlabel('False Positive Rate')\n",
        "plt.show()"
      ],
      "metadata": {
        "colab": {
          "base_uri": "https://localhost:8080/",
          "height": 295
        },
        "id": "RHnhJyU758g4",
        "outputId": "1a598fd9-1288-4b91-97c1-40db627c8aab"
      },
      "execution_count": 105,
      "outputs": [
        {
          "output_type": "display_data",
          "data": {
            "text/plain": [
              "<Figure size 432x288 with 1 Axes>"
            ],
            "image/png": "[encoded data removed]"
          },
          "metadata": {
            "needs_background": "light"
          }
        }
      ]
    },
    {
      "cell_type": "markdown",
      "source": [
        "# **Task 2: Feature generation and traditional ML model**\n",
        "\n",
        "Now that the basics are covered, we'll test a more modern, complex, and memory-intensive approach. This will be done by first processing the data through a Term Frequency - Inverse Document Frequency (tf-idf) vectorizer."
      ],
      "metadata": {
        "id": "fjer-7XNmfSf"
      }
    },
    {
      "cell_type": "code",
      "source": [
        "# instantiate the vectorizer\n",
        "tfidf = TfidfVectorizer(ngram_range=(1,2), stop_words='english')\n",
        "\n",
        "# fit and transform\n",
        "X_train_tfidf = tfidf.fit_transform(X_train['text'].apply(preprocess_text))\n",
        "X_train_tfidf = pd.DataFrame(X_train_tfidf.toarray(), columns = tfidf.get_feature_names_out(), index=X_train.index)\n",
        "\n",
        "# fit and transform\n",
        "X_val_tfidf = tfidf.transform(X_val['text'].apply(preprocess_text))\n",
        "X_val_tfidf = pd.DataFrame(X_val_tfidf.toarray(), columns = tfidf.get_feature_names_out(), index=X_val.index)"
      ],
      "metadata": {
        "id": "xK8OoXp6Uwks"
      },
      "execution_count": 93,
      "outputs": []
    },
    {
      "cell_type": "markdown",
      "source": [
        "### **Mining Other Predictors**\n",
        "\n",
        "Twitter is used for a wide variety of purposes. It is used to disseminate official information to the populace, to debate and discuss rapidly evolving news stories, for the creation/dissemination of art, for entertainment among friends. Through all of these use case, the communication tends to have unique stylistic choices. As an example, official information maybe be written more formally, with care taken to follow linguistic conventions, whereas informal communication among friends maybe be shorter and less conventional. It is along these lines of thought that the following predictors were created.\n",
        "\n",
        "\n",
        "*   Tweet length (number of characters in Tweet)\n",
        "*   Average Word Length (not counting stop words)\n",
        "*   Location (binary, location of person when they Tweeted)\n",
        "*   Keyword (binary, seems to be pulled directly from tweet)\n",
        "*   Link Shared (binary)\n",
        "\n",
        "\n"
      ],
      "metadata": {
        "id": "ev6SmU54DXEo"
      }
    },
    {
      "cell_type": "code",
      "source": [
        "X_train_tfidf['keyword_binary'] = np.where(X_train['keyword'].isnull(), 0, 1)\n",
        "X_val_tfidf['keyword_binary'] = np.where(X_val['keyword'].isnull(), 0, 1)\n",
        "\n",
        "X_train_tfidf['location_binary'] = np.where(X_train['location'].isnull(), 0, 1)\n",
        "X_val_tfidf['location_binary'] = np.where(X_val['location'].isnull(), 0, 1)\n",
        "\n",
        "from sklearn.preprocessing import StandardScaler\n",
        "std_scaler = StandardScaler()\n",
        "\n",
        "X_train_temp = X_train.copy()\n",
        "X_val_temp = X_val.copy()\n",
        "\n",
        "X_train_temp['length'] = X_train['text'].str.len()\n",
        "X_val_temp['length'] = X_val['text'].str.len()\n",
        "\n",
        "X_train_temp['words'] = X_train['text'].str.count(' ') + 1\n",
        "X_val_temp['words'] = X_val['text'].str.count(' ') + 1\n",
        "\n",
        "X_train_temp['avg_word_length'] = X_train_temp['length']/X_train_temp['words'] \n",
        "X_val_temp['avg_word_length'] = X_val_temp['length']/X_val_temp['words'] \n",
        "\n",
        "X_train_temp['hash_avg'] = X_train['text'].str.count('#')/X_train_temp['words'] \n",
        "X_val_temp['hash_avg'] = X_val['text'].str.count('#')/X_val_temp['words']\n",
        "\n",
        "X_train_temp['mention_avg'] = X_train['text'].str.count('@')/X_train_temp['words'] \n",
        "X_val_temp['mention_avg'] = X_val['text'].str.count('@')/X_val_temp['words']\n",
        "\n",
        "X_train_temp['upper_avg'] = X_train['text'].str.findall(r'[A-Z]').str.len()/X_train_temp['words'] \n",
        "X_val_temp['upper_avg'] = X_val['text'].str.findall(r'[A-Z]').str.len()/X_val_temp['words']\n",
        "\n",
        "X_train_temp['symbol_avg'] = X_train['text'].str.count(r'[^a-zA-Z0-9 ]')/X_train_temp['length'] \n",
        "X_val_temp['symbol_avg'] = X_val['text'].str.count(r'[^a-zA-Z0-9 ]')/X_val_temp['length']\n",
        "\n",
        "X_train_temp['link_count'] = X_train['text'].str.count('http')\n",
        "X_val_temp['link_count'] = X_val['text'].str.count('http')\n",
        "\n",
        "X_train_temp['rt'] = X_train['text'].str.count('RT')\n",
        "X_val_temp['rt'] = X_val['text'].str.count('RT')\n",
        "\n",
        "new_predictors = ['length', 'avg_word_length', 'hash_avg', 'mention_avg', 'upper_avg', 'symbol_avg', 'link_count', 'rt']\n",
        "\n",
        "X_train_temp_scaled = std_scaler.fit_transform(X_train_temp[new_predictors].to_numpy())\n",
        "X_train_temp_scaled = pd.DataFrame(X_train_temp_scaled, \n",
        "                                   columns = new_predictors,\n",
        "                                   index = X_train_tfidf.index)\n",
        "X_val_temp_scaled = std_scaler.fit_transform(X_val_temp[new_predictors].to_numpy())\n",
        "X_val_temp_scaled = pd.DataFrame(X_val_temp_scaled, \n",
        "                                 columns = new_predictors,\n",
        "                                 index = X_val_tfidf.index)\n",
        "\n",
        "X_train_tfidf = pd.concat([X_train_tfidf, X_train_temp_scaled], axis = 1)\n",
        "X_val_tfidf = pd.concat([X_val_tfidf, X_val_temp_scaled], axis = 1)\n"
      ],
      "metadata": {
        "id": "6vOyxx6niwY9"
      },
      "execution_count": 94,
      "outputs": []
    },
    {
      "cell_type": "markdown",
      "source": [
        "### **Training and evaluating traditional ML model**\n",
        "Now that the text has been processed using tf-idf, and a handful of other features were derived using our knowledge of Tweets and disasters, we train a traditional ML model with the new model set. Remember, the goal is to determine if a given Tweet is reffering to a real disaster or not - this is a classification problem. Therefore, our choice of learning algorithm is restricted to classifiers. Given the data is high-dimensional, the Support Vector Machine - which handles high-dimensional data well - is used."
      ],
      "metadata": {
        "id": "OHaiKaxHB08M"
      }
    },
    {
      "cell_type": "code",
      "source": [
        "# Build and train traditional ML model\n",
        "svm = LinearSVC(random_state=33, max_iter = 100000)\n",
        "clf = CalibratedClassifierCV(svm) \n",
        "clf.fit(X_train_tfidf, y_train)\n",
        "\n",
        "# Classify observations in the validation set\n",
        "y_pred = clf.predict(X_val_tfidf)\n",
        "y_pred_proba = clf.predict_proba(X_val_tfidf)\n",
        "\n",
        "# Calculate performance metrics\n",
        "precision_2 = metrics.precision_score(y_val, y_pred)\n",
        "fscore_2 = metrics.f1_score(y_val, y_pred)\n",
        "accuracy_2 = metrics.accuracy_score(y_val, y_pred)"
      ],
      "metadata": {
        "id": "cfHCgKFpXuRi"
      },
      "execution_count": 95,
      "outputs": []
    },
    {
      "cell_type": "code",
      "source": [
        "y_pred_proba = y_pred_proba[:,1]\n",
        "fpr_2, tpr_2, threshold_2 = metrics.roc_curve(y_val, y_pred_proba)\n",
        "roc_auc_2 = metrics.auc(fpr_2, tpr_2)\n",
        "\n",
        "# method I: plt\n",
        "plt.title('Receiver Operating Characteristic')\n",
        "plt.plot(fpr_2, tpr_2, 'b', label = 'AUC = %0.2f' % roc_auc_2)\n",
        "plt.legend(loc = 'lower right')\n",
        "plt.plot([0, 1], [0, 1],'r--')\n",
        "plt.xlim([0, 1])\n",
        "plt.ylim([0, 1])\n",
        "plt.ylabel('True Positive Rate')\n",
        "plt.xlabel('False Positive Rate')\n",
        "plt.show()"
      ],
      "metadata": {
        "colab": {
          "base_uri": "https://localhost:8080/",
          "height": 295
        },
        "id": "v1PfYJ2X1bFJ",
        "outputId": "a4fb4874-a371-4e6e-d0c2-00889e646e65"
      },
      "execution_count": 96,
      "outputs": [
        {
          "output_type": "display_data",
          "data": {
            "text/plain": [
              "<Figure size 432x288 with 1 Axes>"
            ],
            "image/png": "[encoded data removed]"
          },
          "metadata": {
            "needs_background": "light"
          }
        }
      ]
    },
    {
      "cell_type": "markdown",
      "source": [
        "# **Task 3: Pre-trained word embeddings + linear classifier model**\n",
        "\n",
        "A pre-trained word embedding is attempts to derive meaning for words and their relationship to eachother in a numerical format. For this problem, I chose the all-MiniLM-L6-v2 pre-trained model from SBERT. It is among the lightest of pre-trained word embeddings while also offering strong performance. It is also a sentence/paragraph embedding. I chose a sentence embedding because we're looking for a single embedding which represents a sequence of words (a Tweet). An efficient way to do this is to consider the Tweet as a sentence/paragraph, and use the sentence embedder. After running the training and validation sets through the pre-trained sentence embedding, there were 384 variables."
      ],
      "metadata": {
        "id": "ZnEMnKjw3RBP"
      }
    },
    {
      "cell_type": "code",
      "source": [
        "# Load the pre-trained sentence embedding: mini-lm \n",
        "mini_lm_model = SentenceTransformer('all-MiniLM-L6-v2')\n",
        "\n",
        "# Encode train, validation Tweets with pre-trained embedding\n",
        "train_embeddings = mini_lm_model.encode(X_train['text'].apply(preprocess_text).tolist())\n",
        "val_embeddings = mini_lm_model.encode(X_val['text'].apply(preprocess_text).tolist())\n",
        "print(train_embeddings.shape)"
      ],
      "metadata": {
        "colab": {
          "base_uri": "https://localhost:8080/"
        },
        "id": "F6dw9E__HCat",
        "outputId": "f14596ef-cb24-4bca-c7bb-3611b00a82e7"
      },
      "execution_count": 99,
      "outputs": [
        {
          "output_type": "stream",
          "name": "stdout",
          "text": [
            "(5709, 384)\n"
          ]
        }
      ]
    },
    {
      "cell_type": "code",
      "source": [
        "# Building, fitting SGD Classifer to newly created training set\n",
        "sgd = make_pipeline(StandardScaler(), SGDClassifier(loss='hinge', max_iter=10000, random_state=33))\n",
        "clf = CalibratedClassifierCV(sgd) \n",
        "clf.fit(train_embeddings, y_train)\n",
        "\n",
        "# Classifying validation set with newly trained model\n",
        "y_pred = clf.predict(val_embeddings)\n",
        "y_pred_proba = clf.predict_proba(val_embeddings)\n",
        "\n",
        "# Calculating performance metrics\n",
        "precision_3 = metrics.precision_score(y_val, y_pred)\n",
        "fscore_3 = metrics.f1_score(y_val, y_pred)\n",
        "accuracy_3 = metrics.accuracy_score(y_val, y_pred)"
      ],
      "metadata": {
        "id": "KN68C1tKs-aC"
      },
      "execution_count": 100,
      "outputs": []
    },
    {
      "cell_type": "code",
      "source": [
        "y_pred_proba = y_pred_proba[:,1]\n",
        "fpr_3, tpr_3, threshold_3 = metrics.roc_curve(y_val, y_pred_proba)\n",
        "roc_auc_3 = metrics.auc(fpr_3, tpr_3)\n",
        "\n",
        "# method I: plt\n",
        "plt.title('Receiver Operating Characteristic')\n",
        "plt.plot(fpr_3, tpr_3, 'b', label = 'AUC = %0.2f' % roc_auc_3)\n",
        "plt.legend(loc = 'lower right')\n",
        "plt.plot([0, 1], [0, 1],'r--')\n",
        "plt.xlim([0, 1])\n",
        "plt.ylim([0, 1])\n",
        "plt.ylabel('True Positive Rate')\n",
        "plt.xlabel('False Positive Rate')\n",
        "plt.show()"
      ],
      "metadata": {
        "colab": {
          "base_uri": "https://localhost:8080/",
          "height": 295
        },
        "id": "maDiC1vayjxd",
        "outputId": "b1f3e23c-15b1-4558-8b87-02cc11402200"
      },
      "execution_count": 101,
      "outputs": [
        {
          "output_type": "display_data",
          "data": {
            "text/plain": [
              "<Figure size 432x288 with 1 Axes>"
            ],
            "image/png": "[encoded data removed]"
          },
          "metadata": {
            "needs_background": "light"
          }
        }
      ]
    },
    {
      "cell_type": "markdown",
      "source": [
        "# **TASK 4 - Recommendations to the clients**\n",
        "\n",
        "The recommendation to the client is made using the following qualitative and quantitative metrics: simplicity, interpretability, accuracy, AUC, precision, and f1 score. Ultimately, the results point to using the simplest method - the Bag-of-Words model. It has among the highest accuracy and AUC, is the simplest, and the easiest to interpret (after all, the bag of words model uses words without attempting to contextual them. To add context, with the time limit and the constraint on optimization, it isn't surprising that the most simple model was best. However, if both constraints were lifted, it is possible that the other models would have offered enough of an improvement in accuracy and AUC to justify their use."
      ],
      "metadata": {
        "id": "iekA53rw2IFM"
      }
    },
    {
      "cell_type": "code",
      "source": [
        "print(accuracy_1, accuracy_2, accuracy_3)"
      ],
      "metadata": {
        "colab": {
          "base_uri": "https://localhost:8080/"
        },
        "id": "UmjEn7a9FbxZ",
        "outputId": "6ab68421-3f2a-4511-d2cd-2a972be902a8"
      },
      "execution_count": 108,
      "outputs": [
        {
          "output_type": "stream",
          "name": "stdout",
          "text": [
            "0.7804621848739496 0.7710084033613446 0.7426470588235294\n"
          ]
        }
      ]
    },
    {
      "cell_type": "code",
      "source": [
        "print(precision_1, precision_2, precision_3)"
      ],
      "metadata": {
        "colab": {
          "base_uri": "https://localhost:8080/"
        },
        "id": "CPZl7ssjJn4U",
        "outputId": "51470f3c-a232-4e71-8b31-02e4b2bf71e3"
      },
      "execution_count": 109,
      "outputs": [
        {
          "output_type": "stream",
          "name": "stdout",
          "text": [
            "0.7997159090909091 0.7583120204603581 0.7536231884057971\n"
          ]
        }
      ]
    },
    {
      "cell_type": "code",
      "source": [
        "print(fscore_1, fscore_2, fscore_3)"
      ],
      "metadata": {
        "colab": {
          "base_uri": "https://localhost:8080/"
        },
        "id": "bzCGmpPVJvSW",
        "outputId": "f0da090c-a262-41e9-fe5c-93a66dbfbbcd"
      },
      "execution_count": 110,
      "outputs": [
        {
          "output_type": "stream",
          "name": "stdout",
          "text": [
            "0.7292746113989638 0.7311960542540075 0.6797385620915033\n"
          ]
        }
      ]
    },
    {
      "cell_type": "code",
      "source": [
        "# method I: plt\n",
        "plt.title('Receiver Operating Characteristic of All Models')\n",
        "plt.plot(fpr_1, tpr_1, 'b', label = 'AUC = %0.2f' % roc_auc_1)\n",
        "plt.plot(fpr_2, tpr_2, 'b', label = 'AUC = %0.2f' % roc_auc_2)\n",
        "plt.plot(fpr_3, tpr_3, 'b', label = 'AUC = %0.2f' % roc_auc_3)\n",
        "plt.legend(loc = 'lower right')\n",
        "plt.plot([0, 1], [0, 1],'r--')\n",
        "plt.xlim([0, 1])\n",
        "plt.ylim([0, 1])\n",
        "plt.ylabel('True Positive Rate')\n",
        "plt.xlabel('False Positive Rate')\n",
        "plt.show()"
      ],
      "metadata": {
        "colab": {
          "base_uri": "https://localhost:8080/",
          "height": 295
        },
        "id": "zUL2SLnGKx8Q",
        "outputId": "22618bcc-8fa2-465b-81b6-a6aaef440d37"
      },
      "execution_count": 111,
      "outputs": [
        {
          "output_type": "display_data",
          "data": {
            "text/plain": [
              "<Figure size 432x288 with 1 Axes>"
            ],
            "image/png": "[encoded data removed]"
          },
          "metadata": {
            "needs_background": "light"
          }
        }
      ]
    }
  ]
}